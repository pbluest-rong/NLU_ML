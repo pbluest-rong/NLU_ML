{
  "cells": [
    {
      "cell_type": "markdown",
      "metadata": {
        "id": "view-in-github",
        "colab_type": "text"
      },
      "source": [
        "<a href=\"https://colab.research.google.com/github/pbluest-rong/NLU_ML/blob/main/Lab_1.ipynb\" target=\"_parent\"><img src=\"https://colab.research.google.com/assets/colab-badge.svg\" alt=\"Open In Colab\"/></a>"
      ]
    },
    {
      "cell_type": "markdown",
      "source": [
        "## **Task 1: Python Programming**"
      ],
      "metadata": {
        "id": "goahuD9iYB5K"
      }
    },
    {
      "cell_type": "markdown",
      "source": [
        "Task 1.1"
      ],
      "metadata": {
        "id": "fm7zy_sSdc5q"
      }
    },
    {
      "cell_type": "code",
      "source": [
        "# Task 1.1\n",
        "L = []\n",
        "n = int(input(\"Nhap n: \"))\n",
        "for i in range(n):\n",
        "  x = int(input(\"Nhap x: \"))\n",
        "  L.append(x)\n",
        "print(L)\n",
        "\n",
        "import numpy as np\n",
        "L.sort()\n",
        "print(L)\n",
        "L.sort(reverse=True)\n",
        "max = np.max(L)\n",
        "min = np.min(L)\n",
        "sum = np.sum(L)\n",
        "print(L,max,min,sum)\n",
        "\n",
        "positive_count = 0\n",
        "negative_count = 0\n",
        "for i in L:\n",
        "  if i > 0:\n",
        "        positive_count+=1\n",
        "  elif i < 0:\n",
        "        negative_count+=1\n",
        "print(positive_count,negative_count)"
      ],
      "metadata": {
        "id": "pqXLa90pYEHK",
        "outputId": "5e2648ec-fb34-4ef7-de37-470b2b1c91cd",
        "colab": {
          "base_uri": "https://localhost:8080/"
        }
      },
      "execution_count": null,
      "outputs": [
        {
          "output_type": "stream",
          "name": "stdout",
          "text": [
            "Nhap n: 3\n",
            "Nhap x: 2\n",
            "Nhap x: 6\n",
            "Nhap x: 3\n",
            "[2, 6, 3]\n",
            "[2, 3, 6]\n",
            "[6, 3, 2] 6 2 11\n",
            "3 0\n"
          ]
        }
      ]
    },
    {
      "cell_type": "markdown",
      "source": [],
      "metadata": {
        "id": "x5dprezYXNMs"
      }
    },
    {
      "cell_type": "markdown",
      "source": [
        "Task 1.2"
      ],
      "metadata": {
        "id": "UOjVLCPMdkse"
      }
    },
    {
      "cell_type": "code",
      "source": [
        "# Task 1.2\n",
        "def S(n):\n",
        " if n == 1:\n",
        "  return 1\n",
        " else:\n",
        "    temp = 1;\n",
        "    for i in range(1,n+1):\n",
        "      temp *= i\n",
        "    return S(n-1) + temp;\n",
        "print(S(3))"
      ],
      "metadata": {
        "id": "mqFMtaIKdt1v",
        "colab": {
          "base_uri": "https://localhost:8080/"
        },
        "outputId": "beebff35-b59a-4c26-8ee3-f2506342eacb"
      },
      "execution_count": null,
      "outputs": [
        {
          "output_type": "stream",
          "name": "stdout",
          "text": [
            "9\n"
          ]
        }
      ]
    },
    {
      "cell_type": "code",
      "source": [
        "()"
      ],
      "metadata": {
        "id": "xqrH3XswbmCs"
      },
      "execution_count": null,
      "outputs": []
    },
    {
      "cell_type": "markdown",
      "source": [
        "Task 1.3"
      ],
      "metadata": {
        "id": "rD_7wSl3XR6z"
      }
    },
    {
      "cell_type": "code",
      "source": [
        "#Task 1.3\n",
        "# Account class: {name: String; email: String; country: String;\n",
        "#                 friends: List<Account>; posts: List<Post>}\n",
        "# Post class: {content: String; subject: String; likes: int}\n",
        "# AccountManager: {accounts: List<Account>}\n",
        "\n",
        "from abc import ABC, abstractmethod\n",
        "import datetime\n",
        "\n",
        "class Post:\n",
        "  def __init__(self, subject, likes):\n",
        "    self.subject = subject\n",
        "    self.likes = likes\n",
        "  def __str__(self):\n",
        "    return f\"{self.subject} - {self.likes}\"\n",
        "\n",
        "class Account(ABC):\n",
        "  def __str__(self):\n",
        "    return f\"{self.name} - {self.email} - {self.country}\"\n",
        "  def __init__(self, name, email, country, friends=None, posts=None):\n",
        "    self.name = name\n",
        "    self.email = email\n",
        "    self.country = country\n",
        "    self.friends = friends if friends is not None else []\n",
        "    self.posts = posts if posts is not None else []\n",
        "\n",
        "  # find the account having the post with the highest likes from the list of friends.\n",
        "  def _getMaxLikePostByFriend(self):\n",
        "      res = None\n",
        "      maxLike = 0\n",
        "      if self.friends is not None:\n",
        "        for f in self.friends:\n",
        "          for p in f.posts:\n",
        "            if p.likes > maxLike:\n",
        "              maxLike = p.likes\n",
        "              res = p\n",
        "      return res\n",
        "\n",
        "class VerifiedAccount(Account):\n",
        "    def __init__(self, name, email, country, fromDate, friends=None, posts=None):\n",
        "      super().__init__(name,email,country,friends,posts)\n",
        "      self.__fromDate = fromDate\n",
        "class NormalProduct(Account):\n",
        "     def __init__(self, name, email, country, friends=None, posts=None):\n",
        "      super().__init__(name,email,country,friends,posts)\n",
        "\n",
        "class AccountManager:\n",
        "  def __init__(self, accounts):\n",
        "    self.accounts = accounts\n",
        "  def __str__(self):\n",
        "    res = []\n",
        "    for i in self.accounts:\n",
        "      res.append(str(i))\n",
        "    return f\"{res}\"\n",
        "  # key = false <= <10 post else true\n",
        "  def groupAccountsByPostLike(self):\n",
        "    trueGroup = []\n",
        "    falseGroup = []\n",
        "    for a in self.accounts:\n",
        "      if len(a.posts) > 10:\n",
        "        trueGroup.append(a)\n",
        "      else:\n",
        "        falseGroup.append(a)\n",
        "    return {True: trueGroup, False: falseGroup}\n",
        "  # get all accounts from a given country\n",
        "  # descending: number of post, ascending: name\n",
        "  def filterAccounts(self, country):\n",
        "    group =  {a for a in self.accounts if a.country == country}\n",
        "    sorted_list = sorted(group, key = lambda a: (-len(a.posts), a.name))\n",
        "    return sorted_list\n",
        "\n",
        "# Test\n",
        "a1 = Account(\"Pblues\", \"pblues@gmail.com\",\"VietNam\",None, None)\n",
        "friends = [a1]\n",
        "\n",
        "p1 = Post(\"ML\", 10)\n",
        "p2 = Post(\"Mobile\", 9)\n",
        "p3 = Post(\"Web\", 8)\n",
        "posts =[p1,p2,p3]\n",
        "a2 = VerifiedAccount(\"Phụng\", \"lungbaphe772003@gmail.com\",\"VietNam\",datetime.datetime.now(),friends, posts)\n",
        "print(a2._getMaxLikePostByFriend())\n",
        "\n",
        "accounts = [a1,a2]\n",
        "manager = AccountManager(accounts)\n",
        "print(manager)\n",
        "for i in manager.groupAccountsByPostLike(): print(i)\n",
        "for i in manager.filterAccounts(\"VN\"): print(i)\n",
        "for i in manager.filterAccounts(\"VietNam\"): print(i)"
      ],
      "metadata": {
        "colab": {
          "base_uri": "https://localhost:8080/"
        },
        "id": "aVyY6jxdXVGA",
        "outputId": "bea2ac69-676c-440f-fca6-d1c7f385dafd"
      },
      "execution_count": null,
      "outputs": [
        {
          "output_type": "stream",
          "name": "stdout",
          "text": [
            "None\n",
            "['Pblues - pblues@gmail.com - VietNam', 'Phụng - lungbaphe772003@gmail.com - VietNam']\n",
            "True\n",
            "False\n",
            "Phụng - lungbaphe772003@gmail.com - VietNam\n",
            "Pblues - pblues@gmail.com - VietNam\n"
          ]
        }
      ]
    },
    {
      "cell_type": "markdown",
      "source": [
        "## **Task 2: NumPy API**"
      ],
      "metadata": {
        "id": "EJ4JfKuB1tbk"
      }
    },
    {
      "cell_type": "markdown",
      "source": [
        "Task 2.1"
      ],
      "metadata": {
        "id": "WKjkqqhR_983"
      }
    },
    {
      "cell_type": "code",
      "source": [
        "# Task 2.1: arange.reshape\n",
        "import numpy as np\n",
        "arr = np.arange(10,26).reshape(16)\n",
        "print(arr)\n",
        "print(np.flip(arr))"
      ],
      "metadata": {
        "colab": {
          "base_uri": "https://localhost:8080/"
        },
        "id": "D3mHPxE41vN3",
        "outputId": "da9a7ab9-2f23-427f-d3be-214547e6ac2b"
      },
      "execution_count": null,
      "outputs": [
        {
          "output_type": "stream",
          "name": "stdout",
          "text": [
            "[10 11 12 13 14 15 16 17 18 19 20 21 22 23 24 25]\n",
            "[25 24 23 22 21 20 19 18 17 16 15 14 13 12 11 10]\n"
          ]
        }
      ]
    },
    {
      "cell_type": "markdown",
      "source": [
        "Task 2.2"
      ],
      "metadata": {
        "id": "Z8djwmdSACpg"
      }
    },
    {
      "cell_type": "code",
      "source": [
        "# Task 2.2: tile\n",
        "def task_2(arr, number_repetitions):\n",
        "  return np.tile(arr, number_repetitions)\n",
        "arr_2 = [1,2,3,4]\n",
        "print(task_2(arr_2,3))"
      ],
      "metadata": {
        "colab": {
          "base_uri": "https://localhost:8080/"
        },
        "id": "2sY07K9CABFx",
        "outputId": "8307da22-51a8-487b-eeec-d167f406bcac"
      },
      "execution_count": null,
      "outputs": [
        {
          "output_type": "stream",
          "name": "stdout",
          "text": [
            "[1 2 3 4 1 2 3 4 1 2 3 4]\n"
          ]
        }
      ]
    },
    {
      "cell_type": "markdown",
      "source": [
        "Task 2.3"
      ],
      "metadata": {
        "id": "fG2kTRYzAHgn"
      }
    },
    {
      "cell_type": "code",
      "source": [
        "# Task 2.3:\n",
        "arr_3 = [[ 0.42, 0.48, 0.32],\n",
        "         [ 0.74, 0.58, 0.38],\n",
        "         [ 0.51, 0.34, 0.15]]\n",
        "\n",
        "arr_3 = np.array(arr_3)\n",
        "arr_3[arr_3 > 0.5] = 0.5\n",
        "print(arr_3)"
      ],
      "metadata": {
        "colab": {
          "base_uri": "https://localhost:8080/"
        },
        "id": "uhE81ytJAFec",
        "outputId": "cf122973-eb39-496b-a990-1bdf995e95ed"
      },
      "execution_count": null,
      "outputs": [
        {
          "output_type": "stream",
          "name": "stdout",
          "text": [
            "[[0.42 0.48 0.32]\n",
            " [0.5  0.5  0.38]\n",
            " [0.5  0.34 0.15]]\n"
          ]
        }
      ]
    }
  ],
  "metadata": {
    "colab": {
      "toc_visible": true,
      "provenance": [],
      "include_colab_link": true
    },
    "kernelspec": {
      "display_name": "Python 3",
      "name": "python3"
    }
  },
  "nbformat": 4,
  "nbformat_minor": 0
}